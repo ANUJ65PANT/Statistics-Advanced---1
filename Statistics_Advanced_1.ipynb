{
  "nbformat": 4,
  "nbformat_minor": 0,
  "metadata": {
    "colab": {
      "provenance": []
    },
    "kernelspec": {
      "name": "python3",
      "display_name": "Python 3"
    },
    "language_info": {
      "name": "python"
    }
  },
  "cells": [
    {
      "cell_type": "markdown",
      "source": [
        "### **Question 1: What is a random variable in probability theory?**\n",
        "\n",
        "**Answer:**\n",
        "A random variable is a numerical outcome of a random phenomenon or experiment. It maps outcomes of a probabilistic event to real numbers. There are two types of random variables: discrete and continuous. A discrete random variable takes on countable values, while a continuous random variable can take on any value within a range or interval.\n",
        "\n",
        "---\n",
        "\n",
        "### **Question 2: What are the types of random variables?**\n",
        "\n",
        "**Answer:**\n",
        "There are two main types of random variables:\n",
        "\n",
        "1. **Discrete Random Variables**: These can take on a finite or countable number of values. Examples include the number of heads in 10 coin tosses or the number of customers arriving at a store.\n",
        "2. **Continuous Random Variables**: These can take on any value within a given range. Examples include the height of individuals or the time taken to complete a task.\n",
        "\n",
        "---\n",
        "\n",
        "### **Question 3: Explain the difference between discrete and continuous distributions.**\n",
        "\n",
        "**Answer:**\n",
        "\n",
        "* **Discrete Distributions** represent the probabilities of outcomes of a discrete random variable. The probability mass function (PMF) is used to define them. Example: Binomial distribution.\n",
        "* **Continuous Distributions** represent the probabilities of outcomes of a continuous random variable. The probability density function (PDF) is used for these. Example: Normal distribution.\n",
        "\n",
        "The key difference is that discrete distributions deal with countable outcomes, while continuous distributions deal with outcomes across a continuum.\n",
        "\n",
        "---\n",
        "\n",
        "### **Question 4: What is a binomial distribution, and how is it used in probability?**\n",
        "\n",
        "**Answer:**\n",
        "A binomial distribution is a discrete probability distribution representing the number of successes in a fixed number of independent trials, each with the same probability of success.\n",
        "It is used in situations like quality control (defective vs. non-defective items) or survey analysis (yes/no responses).\n",
        "\n",
        "The probability of exactly *k* successes in *n* trials is given by:\n",
        "$P(X = k) = \\binom{n}{k} p^k (1-p)^{n-k}$\n",
        "Where $p$ is the probability of success.\n",
        "\n",
        "---\n",
        "\n",
        "### **Question 5: What is the standard normal distribution, and why is it important?**\n",
        "\n",
        "**Answer:**\n",
        "The standard normal distribution is a normal distribution with a **mean of 0** and **standard deviation of 1**. It is important because:\n",
        "\n",
        "* It simplifies calculations in probability and statistics.\n",
        "* Any normal distribution can be converted into a standard normal using **z-scores**.\n",
        "* It is widely used in hypothesis testing and confidence intervals.\n",
        "\n",
        "---\n",
        "\n",
        "### **Question 6: What is the Central Limit Theorem (CLT), and why is it critical in statistics?**\n",
        "\n",
        "**Answer:**\n",
        "The Central Limit Theorem states that the sampling distribution of the sample mean approaches a normal distribution as the sample size increases, **regardless of the shape of the population distribution**, provided the sample size is sufficiently large (typically $n \\geq 30$).\n",
        "It is critical because it allows statisticians to make inferences about population parameters using the normal distribution, even when the population distribution is unknown.\n",
        "\n",
        "---\n",
        "\n",
        "### **Question 7: What is the significance of confidence intervals in statistical analysis?**\n",
        "\n",
        "**Answer:**\n",
        "A confidence interval (CI) gives a range of plausible values for an unknown population parameter (like the mean).\n",
        "The **95% CI** means that if we were to take 100 different samples and compute a confidence interval for each, about 95 of those intervals would contain the true population parameter.\n",
        "Confidence intervals provide a measure of reliability and help in making decisions under uncertainty.\n",
        "\n",
        "---\n",
        "\n",
        "### **Question 8: What is the concept of expected value in a probability distribution?**\n",
        "\n",
        "**Answer:**\n",
        "The expected value (mean) of a random variable is the **long-term average** outcome if an experiment is repeated many times.\n",
        "For a **discrete random variable**:\n",
        "$E(X) = \\sum x_i \\cdot P(x_i)$\n",
        "For a **continuous random variable**:\n",
        "$E(X) = \\int_{-\\infty}^{\\infty} x \\cdot f(x) \\, dx$\n",
        "It gives insight into the center or average of a distribution."
      ],
      "metadata": {
        "id": "RUWVCrKKHy9X"
      }
    },
    {
      "cell_type": "code",
      "source": [
        "\n",
        "### **Question 9: Python program to generate 1000 random numbers from a normal distribution with mean = 50 and standard deviation = 5. Compute its mean and standard deviation using NumPy, and draw a histogram to visualize the distribution.**\n",
        "\n",
        "import numpy as np\n",
        "import matplotlib.pyplot as plt\n",
        "\n",
        "# Generate random numbers\n",
        "data = np.random.normal(loc=50, scale=5, size=1000)\n",
        "\n",
        "# Compute mean and standard deviation\n",
        "mean = np.mean(data)\n",
        "std_dev = np.std(data)\n",
        "\n",
        "print(f\"Mean: {mean:.2f}\")\n",
        "print(f\"Standard Deviation: {std_dev:.2f}\")\n",
        "\n",
        "# Plot histogram\n",
        "plt.hist(data, bins=30, color='skyblue', edgecolor='black')\n",
        "plt.title(\"Histogram of Normally Distributed Data\")\n",
        "plt.xlabel(\"Value\")\n",
        "plt.ylabel(\"Frequency\")\n",
        "plt.grid(True)\n",
        "plt.show()\n"
      ],
      "metadata": {
        "colab": {
          "base_uri": "https://localhost:8080/",
          "height": 507
        },
        "id": "E72OATqSIDtv",
        "outputId": "1ee82716-a549-4fd8-ddde-6a1e4f55d552"
      },
      "execution_count": 1,
      "outputs": [
        {
          "output_type": "stream",
          "name": "stdout",
          "text": [
            "Mean: 50.22\n",
            "Standard Deviation: 5.13\n"
          ]
        },
        {
          "output_type": "display_data",
          "data": {
            "text/plain": [
              "<Figure size 640x480 with 1 Axes>"
            ],
            "image/png": "[encoded data removed]"
          },
          "metadata": {}
        }
      ]
    },
    {
      "cell_type": "code",
      "source": [
        "\n",
        "### **Question 10: Sales Trend Analysis using CLT**\n",
        "\n",
        "\n",
        "#### **Application of CLT:**\n",
        "#The Central Limit Theorem allows us to estimate the population mean sales using the sample mean of the 20 daily sales values. Since the sample is reasonably large and assumed to be randomly selected, we can calculate a **95% confidence interval** for the average sales using the formula:\n",
        "\n",
        "# \\[\n",
        "# \\text{CI} = \\bar{x} \\pm Z \\cdot \\frac{s}{\\sqrt{n}}\n",
        "# $$\n",
        "\n",
        "# Where:\n",
        "\n",
        "# * $\\bar{x}$ is the sample mean\n",
        "# * $s$ is the sample standard deviation\n",
        "# * $n$ is the sample size (20)\n",
        "# * $Z$ is the Z-score for 95% confidence (\\~1.96)\n",
        "import numpy as np\n",
        "import scipy.stats as stats\n",
        "\n",
        "# Sales data\n",
        "daily_sales = [220, 245, 210, 265, 230, 250, 260, 275, 240, 255,\n",
        "               235, 260, 245, 250, 225, 270, 265, 255, 250, 260]\n",
        "\n",
        "# Calculate sample statistics\n",
        "mean_sales = np.mean(daily_sales)\n",
        "std_sales = np.std(daily_sales, ddof=1)  # Sample standard deviation\n",
        "n = len(daily_sales)\n",
        "z = 1.96  # for 95% confidence\n",
        "\n",
        "# Confidence Interval\n",
        "margin_of_error = z * (std_sales / np.sqrt(n))\n",
        "ci_lower = mean_sales - margin_of_error\n",
        "ci_upper = mean_sales + margin_of_error\n",
        "\n",
        "print(f\"Mean Sales: {mean_sales:.2f}\")\n",
        "print(f\"95% Confidence Interval: ({ci_lower:.2f}, {ci_upper:.2f})\")"
      ],
      "metadata": {
        "colab": {
          "base_uri": "https://localhost:8080/"
        },
        "id": "6YraR-02ItOh",
        "outputId": "3131f181-5996-4c44-87c7-77d797439387"
      },
      "execution_count": 3,
      "outputs": [
        {
          "output_type": "stream",
          "name": "stdout",
          "text": [
            "Mean Sales: 248.25\n",
            "95% Confidence Interval: (240.68, 255.82)\n"
          ]
        }
      ]
    }
  ]
}